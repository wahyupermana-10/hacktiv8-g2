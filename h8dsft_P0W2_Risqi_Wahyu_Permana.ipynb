{
 "cells": [
  {
   "attachments": {},
   "cell_type": "markdown",
   "metadata": {},
   "source": [
    "Graded Challange 2 <br>\n",
    "Nama : Risqi Wahyu Permana <br>\n",
    "Batch : HCK 6"
   ]
  },
  {
   "attachments": {},
   "cell_type": "markdown",
   "metadata": {},
   "source": [
    "# Objective"
   ]
  },
  {
   "attachments": {},
   "cell_type": "markdown",
   "metadata": {},
   "source": [
    "- Mampu memperoleh data menggunakan BigQuery\n",
    "- Mampu melakukan pemrosesan data sebelum melakukan perhitungan\n",
    "- Mampu menerapkan konsep statistics descriptive dan inferential pada suatu permasalahan\n",
    "- Mampu memahami konsep statistics descriptive dan inferential"
   ]
  },
  {
   "attachments": {},
   "cell_type": "markdown",
   "metadata": {},
   "source": [
    "# Working Area"
   ]
  },
  {
   "attachments": {},
   "cell_type": "markdown",
   "metadata": {},
   "source": [
    "#### Query yang dipakai di Google Cloud Platform\n",
    "```sql\n",
    "SELECT report_date,load_time, load_type, load_weight, dropoff_site\n",
    "FROM `bigquery-public-data.austin_waste.waste_and_diversion`\n",
    "WHERE report_date BETWEEN '2021-01-01' AND '2021-07-09'\n",
    "ORDER BY report_date\n",
    "```"
   ]
  },
  {
   "attachments": {},
   "cell_type": "markdown",
   "metadata": {},
   "source": [
    "#### Library"
   ]
  },
  {
   "cell_type": "code",
   "execution_count": 1,
   "metadata": {},
   "outputs": [],
   "source": [
    "import pandas as pd\n",
    "import numpy as np\n",
    "import matplotlib.pyplot as plt\n",
    "import scipy.stats as stats\n",
    "import seaborn as sns"
   ]
  },
  {
   "attachments": {},
   "cell_type": "markdown",
   "metadata": {},
   "source": [
    "#### Load dataset"
   ]
  },
  {
   "cell_type": "code",
   "execution_count": 2,
   "metadata": {},
   "outputs": [
    {
     "data": {
      "text/html": [
       "<div>\n",
       "<style scoped>\n",
       "    .dataframe tbody tr th:only-of-type {\n",
       "        vertical-align: middle;\n",
       "    }\n",
       "\n",
       "    .dataframe tbody tr th {\n",
       "        vertical-align: top;\n",
       "    }\n",
       "\n",
       "    .dataframe thead th {\n",
       "        text-align: right;\n",
       "    }\n",
       "</style>\n",
       "<table border=\"1\" class=\"dataframe\">\n",
       "  <thead>\n",
       "    <tr style=\"text-align: right;\">\n",
       "      <th></th>\n",
       "      <th>report_date</th>\n",
       "      <th>load_time</th>\n",
       "      <th>load_type</th>\n",
       "      <th>load_weight</th>\n",
       "      <th>dropoff_site</th>\n",
       "    </tr>\n",
       "  </thead>\n",
       "  <tbody>\n",
       "    <tr>\n",
       "      <th>0</th>\n",
       "      <td>2021-01-01</td>\n",
       "      <td>2021-01-01 12:00:00 UTC</td>\n",
       "      <td>SWEEPING</td>\n",
       "      <td>NaN</td>\n",
       "      <td>ONION CREEK</td>\n",
       "    </tr>\n",
       "    <tr>\n",
       "      <th>1</th>\n",
       "      <td>2021-01-01</td>\n",
       "      <td>2021-01-01 12:00:00 UTC</td>\n",
       "      <td>SWEEPING</td>\n",
       "      <td>NaN</td>\n",
       "      <td>ONION CREEK</td>\n",
       "    </tr>\n",
       "    <tr>\n",
       "      <th>2</th>\n",
       "      <td>2021-01-01</td>\n",
       "      <td>2021-01-01 12:00:00 UTC</td>\n",
       "      <td>SWEEPING</td>\n",
       "      <td>NaN</td>\n",
       "      <td>ONION CREEK</td>\n",
       "    </tr>\n",
       "    <tr>\n",
       "      <th>3</th>\n",
       "      <td>2021-01-01</td>\n",
       "      <td>2021-01-01 12:00:00 UTC</td>\n",
       "      <td>SWEEPING</td>\n",
       "      <td>NaN</td>\n",
       "      <td>ONION CREEK</td>\n",
       "    </tr>\n",
       "    <tr>\n",
       "      <th>4</th>\n",
       "      <td>2021-01-02</td>\n",
       "      <td>2021-01-02 09:24:00 UTC</td>\n",
       "      <td>TIRES</td>\n",
       "      <td>1640.0</td>\n",
       "      <td>MRF</td>\n",
       "    </tr>\n",
       "  </tbody>\n",
       "</table>\n",
       "</div>"
      ],
      "text/plain": [
       "  report_date                load_time load_type  load_weight dropoff_site\n",
       "0  2021-01-01  2021-01-01 12:00:00 UTC  SWEEPING          NaN  ONION CREEK\n",
       "1  2021-01-01  2021-01-01 12:00:00 UTC  SWEEPING          NaN  ONION CREEK\n",
       "2  2021-01-01  2021-01-01 12:00:00 UTC  SWEEPING          NaN  ONION CREEK\n",
       "3  2021-01-01  2021-01-01 12:00:00 UTC  SWEEPING          NaN  ONION CREEK\n",
       "4  2021-01-02  2021-01-02 09:24:00 UTC     TIRES       1640.0          MRF"
      ]
     },
     "execution_count": 2,
     "metadata": {},
     "output_type": "execute_result"
    }
   ],
   "source": [
    "df = pd.read_csv('h8dsft_P0GC2_Risqi_Wahyu_Permana.csv')\n",
    "df.head()"
   ]
  },
  {
   "cell_type": "code",
   "execution_count": 3,
   "metadata": {},
   "outputs": [],
   "source": [
    "#change report_date data type to datetime\n",
    "df['report_date'] = pd.to_datetime(df['report_date'])"
   ]
  },
  {
   "cell_type": "code",
   "execution_count": 4,
   "metadata": {},
   "outputs": [
    {
     "data": {
      "text/html": [
       "<div>\n",
       "<style scoped>\n",
       "    .dataframe tbody tr th:only-of-type {\n",
       "        vertical-align: middle;\n",
       "    }\n",
       "\n",
       "    .dataframe tbody tr th {\n",
       "        vertical-align: top;\n",
       "    }\n",
       "\n",
       "    .dataframe thead th {\n",
       "        text-align: right;\n",
       "    }\n",
       "</style>\n",
       "<table border=\"1\" class=\"dataframe\">\n",
       "  <thead>\n",
       "    <tr style=\"text-align: right;\">\n",
       "      <th></th>\n",
       "      <th>report_date</th>\n",
       "      <th>load_time</th>\n",
       "      <th>load_type</th>\n",
       "      <th>load_weight</th>\n",
       "      <th>dropoff_site</th>\n",
       "    </tr>\n",
       "  </thead>\n",
       "  <tbody>\n",
       "    <tr>\n",
       "      <th>26152</th>\n",
       "      <td>2021-07-09</td>\n",
       "      <td>2021-07-09 09:48:00 UTC</td>\n",
       "      <td>BRUSH</td>\n",
       "      <td>8240.0</td>\n",
       "      <td>HORNSBY BEND</td>\n",
       "    </tr>\n",
       "    <tr>\n",
       "      <th>26153</th>\n",
       "      <td>2021-07-09</td>\n",
       "      <td>2021-07-09 12:02:00 UTC</td>\n",
       "      <td>BRUSH</td>\n",
       "      <td>4160.0</td>\n",
       "      <td>HORNSBY BEND</td>\n",
       "    </tr>\n",
       "    <tr>\n",
       "      <th>26154</th>\n",
       "      <td>2021-07-09</td>\n",
       "      <td>2021-07-09 11:55:00 UTC</td>\n",
       "      <td>BRUSH</td>\n",
       "      <td>4340.0</td>\n",
       "      <td>HORNSBY BEND</td>\n",
       "    </tr>\n",
       "    <tr>\n",
       "      <th>26155</th>\n",
       "      <td>2021-07-09</td>\n",
       "      <td>2021-07-09 12:00:00 UTC</td>\n",
       "      <td>LITTER</td>\n",
       "      <td>1900.0</td>\n",
       "      <td>TDS LANDFILL</td>\n",
       "    </tr>\n",
       "    <tr>\n",
       "      <th>26156</th>\n",
       "      <td>2021-07-09</td>\n",
       "      <td>2021-07-09 12:00:00 UTC</td>\n",
       "      <td>LITTER</td>\n",
       "      <td>3040.0</td>\n",
       "      <td>TDS LANDFILL</td>\n",
       "    </tr>\n",
       "  </tbody>\n",
       "</table>\n",
       "</div>"
      ],
      "text/plain": [
       "      report_date                load_time load_type  load_weight  \\\n",
       "26152  2021-07-09  2021-07-09 09:48:00 UTC     BRUSH       8240.0   \n",
       "26153  2021-07-09  2021-07-09 12:02:00 UTC     BRUSH       4160.0   \n",
       "26154  2021-07-09  2021-07-09 11:55:00 UTC     BRUSH       4340.0   \n",
       "26155  2021-07-09  2021-07-09 12:00:00 UTC    LITTER       1900.0   \n",
       "26156  2021-07-09  2021-07-09 12:00:00 UTC    LITTER       3040.0   \n",
       "\n",
       "       dropoff_site  \n",
       "26152  HORNSBY BEND  \n",
       "26153  HORNSBY BEND  \n",
       "26154  HORNSBY BEND  \n",
       "26155  TDS LANDFILL  \n",
       "26156  TDS LANDFILL  "
      ]
     },
     "execution_count": 4,
     "metadata": {},
     "output_type": "execute_result"
    }
   ],
   "source": [
    "df.tail()"
   ]
  },
  {
   "attachments": {},
   "cell_type": "markdown",
   "metadata": {},
   "source": [
    "## Menyelesaikan Problem"
   ]
  },
  {
   "attachments": {},
   "cell_type": "markdown",
   "metadata": {},
   "source": [
    "### Problem 1"
   ]
  },
  {
   "attachments": {},
   "cell_type": "markdown",
   "metadata": {},
   "source": [
    "#### 1. Mengecek dan menghilangkan missing value"
   ]
  },
  {
   "cell_type": "code",
   "execution_count": 5,
   "metadata": {},
   "outputs": [
    {
     "name": "stdout",
     "output_type": "stream",
     "text": [
      "<class 'pandas.core.frame.DataFrame'>\n",
      "RangeIndex: 26157 entries, 0 to 26156\n",
      "Data columns (total 5 columns):\n",
      " #   Column        Non-Null Count  Dtype         \n",
      "---  ------        --------------  -----         \n",
      " 0   report_date   26157 non-null  datetime64[ns]\n",
      " 1   load_time     26157 non-null  object        \n",
      " 2   load_type     26157 non-null  object        \n",
      " 3   load_weight   25109 non-null  float64       \n",
      " 4   dropoff_site  26157 non-null  object        \n",
      "dtypes: datetime64[ns](1), float64(1), object(3)\n",
      "memory usage: 1021.9+ KB\n"
     ]
    }
   ],
   "source": [
    "df.info()"
   ]
  },
  {
   "cell_type": "code",
   "execution_count": 6,
   "metadata": {},
   "outputs": [
    {
     "data": {
      "text/plain": [
       "report_date        0\n",
       "load_time          0\n",
       "load_type          0\n",
       "load_weight     1048\n",
       "dropoff_site       0\n",
       "dtype: int64"
      ]
     },
     "execution_count": 6,
     "metadata": {},
     "output_type": "execute_result"
    }
   ],
   "source": [
    "#check missing value\n",
    "df.isnull().sum()"
   ]
  },
  {
   "attachments": {},
   "cell_type": "markdown",
   "metadata": {},
   "source": [
    "- Terdapat missing value pada kolom load_weight"
   ]
  },
  {
   "attachments": {},
   "cell_type": "markdown",
   "metadata": {},
   "source": [
    "- Ganti missing value dengan median\n",
    "```\n",
    "Penggunaan median membantu mengurangi bias, karena median mencermikan pusat data. Sehingga lebih stabil dalam memberikan perkiraan.\n",
    "```"
   ]
  },
  {
   "cell_type": "code",
   "execution_count": 7,
   "metadata": {},
   "outputs": [],
   "source": [
    "#change missing values to median\n",
    "df['load_weight'].fillna(df['load_weight'].median(), inplace=True)"
   ]
  },
  {
   "cell_type": "code",
   "execution_count": 8,
   "metadata": {},
   "outputs": [
    {
     "data": {
      "text/plain": [
       "445"
      ]
     },
     "execution_count": 8,
     "metadata": {},
     "output_type": "execute_result"
    }
   ],
   "source": [
    "#check duplicate\n",
    "df.duplicated().sum()"
   ]
  },
  {
   "cell_type": "code",
   "execution_count": 9,
   "metadata": {},
   "outputs": [],
   "source": [
    "#drop duplicate\n",
    "df.drop_duplicates(inplace=True)"
   ]
  },
  {
   "cell_type": "code",
   "execution_count": 10,
   "metadata": {},
   "outputs": [
    {
     "name": "stdout",
     "output_type": "stream",
     "text": [
      "<class 'pandas.core.frame.DataFrame'>\n",
      "Int64Index: 25712 entries, 0 to 26156\n",
      "Data columns (total 5 columns):\n",
      " #   Column        Non-Null Count  Dtype         \n",
      "---  ------        --------------  -----         \n",
      " 0   report_date   25712 non-null  datetime64[ns]\n",
      " 1   load_time     25712 non-null  object        \n",
      " 2   load_type     25712 non-null  object        \n",
      " 3   load_weight   25712 non-null  float64       \n",
      " 4   dropoff_site  25712 non-null  object        \n",
      "dtypes: datetime64[ns](1), float64(1), object(3)\n",
      "memory usage: 1.2+ MB\n"
     ]
    }
   ],
   "source": [
    "df.info()"
   ]
  },
  {
   "cell_type": "code",
   "execution_count": 11,
   "metadata": {},
   "outputs": [
    {
     "data": {
      "text/plain": [
       "report_date     0\n",
       "load_time       0\n",
       "load_type       0\n",
       "load_weight     0\n",
       "dropoff_site    0\n",
       "dtype: int64"
      ]
     },
     "execution_count": 11,
     "metadata": {},
     "output_type": "execute_result"
    }
   ],
   "source": [
    "#check missing value\n",
    "df.isnull().sum()"
   ]
  },
  {
   "attachments": {},
   "cell_type": "markdown",
   "metadata": {},
   "source": [
    "#### 2. Eksplorasi data sederhana"
   ]
  },
  {
   "cell_type": "code",
   "execution_count": 12,
   "metadata": {},
   "outputs": [
    {
     "name": "stdout",
     "output_type": "stream",
     "text": [
      "Rentang waktu pengambilan data dari 2021-01-01 sampai 2021-07-09\n"
     ]
    }
   ],
   "source": [
    "#range date of data\n",
    "print('Rentang waktu pengambilan data dari', df['report_date'].dt.date.min(), 'sampai',df['report_date'].dt.date.max())\n"
   ]
  },
  {
   "cell_type": "code",
   "execution_count": 13,
   "metadata": {},
   "outputs": [
    {
     "data": {
      "text/plain": [
       "array(['SWEEPING', 'TIRES', 'RECYCLING - SINGLE STREAM', 'YARD TRIMMING',\n",
       "       'BULK', 'DEAD ANIMAL', 'GARBAGE COLLECTIONS', 'MIXED LITTER',\n",
       "       'ORGANICS', 'BRUSH', 'RECYCLED METAL', 'LITTER',\n",
       "       'CONTAMINATED RECYCLING', 'CONTAMINATED ORGANICS'], dtype=object)"
      ]
     },
     "execution_count": 13,
     "metadata": {},
     "output_type": "execute_result"
    }
   ],
   "source": [
    "#unique values\n",
    "df['load_type'].unique()"
   ]
  },
  {
   "cell_type": "code",
   "execution_count": 14,
   "metadata": {},
   "outputs": [
    {
     "data": {
      "text/plain": [
       "array(['ONION CREEK', 'MRF', 'TDS - MRF', 'HORNSBY BEND', 'TDS LANDFILL',\n",
       "       'ORGANICS BY GOSH', 'BALCONES RECYCLING', 'AUSTIN IRON AND METAL',\n",
       "       'PARK CENTER', 'ON ROUTE HIGH DUMP', 'WILCAB', 'GREAT NORTHERN',\n",
       "       'AUSTIN WOOD RECYCLING', 'PARK BEND', 'BALCONES WOODS',\n",
       "       'STEINER LANDFILL', 'WESTFIELD', 'ST. EDWARDS'], dtype=object)"
      ]
     },
     "execution_count": 14,
     "metadata": {},
     "output_type": "execute_result"
    }
   ],
   "source": [
    "df['dropoff_site'].unique()"
   ]
  },
  {
   "attachments": {},
   "cell_type": "markdown",
   "metadata": {},
   "source": [
    "#### 3. Central Tedency"
   ]
  },
  {
   "cell_type": "code",
   "execution_count": 15,
   "metadata": {},
   "outputs": [
    {
     "data": {
      "text/html": [
       "<div>\n",
       "<style scoped>\n",
       "    .dataframe tbody tr th:only-of-type {\n",
       "        vertical-align: middle;\n",
       "    }\n",
       "\n",
       "    .dataframe tbody tr th {\n",
       "        vertical-align: top;\n",
       "    }\n",
       "\n",
       "    .dataframe thead th {\n",
       "        text-align: right;\n",
       "    }\n",
       "</style>\n",
       "<table border=\"1\" class=\"dataframe\">\n",
       "  <thead>\n",
       "    <tr style=\"text-align: right;\">\n",
       "      <th></th>\n",
       "      <th>load_weight</th>\n",
       "    </tr>\n",
       "    <tr>\n",
       "      <th>dropoff_site</th>\n",
       "      <th></th>\n",
       "    </tr>\n",
       "  </thead>\n",
       "  <tbody>\n",
       "    <tr>\n",
       "      <th>AUSTIN IRON AND METAL</th>\n",
       "      <td>451.200000</td>\n",
       "    </tr>\n",
       "    <tr>\n",
       "      <th>AUSTIN WOOD RECYCLING</th>\n",
       "      <td>4050.000000</td>\n",
       "    </tr>\n",
       "    <tr>\n",
       "      <th>BALCONES RECYCLING</th>\n",
       "      <td>9464.934760</td>\n",
       "    </tr>\n",
       "    <tr>\n",
       "      <th>BALCONES WOODS</th>\n",
       "      <td>8460.000000</td>\n",
       "    </tr>\n",
       "    <tr>\n",
       "      <th>GREAT NORTHERN</th>\n",
       "      <td>11982.898551</td>\n",
       "    </tr>\n",
       "    <tr>\n",
       "      <th>HORNSBY BEND</th>\n",
       "      <td>6645.112053</td>\n",
       "    </tr>\n",
       "    <tr>\n",
       "      <th>MRF</th>\n",
       "      <td>1799.982143</td>\n",
       "    </tr>\n",
       "    <tr>\n",
       "      <th>ON ROUTE HIGH DUMP</th>\n",
       "      <td>11405.925926</td>\n",
       "    </tr>\n",
       "    <tr>\n",
       "      <th>ONION CREEK</th>\n",
       "      <td>11300.000000</td>\n",
       "    </tr>\n",
       "    <tr>\n",
       "      <th>ORGANICS BY GOSH</th>\n",
       "      <td>11822.858684</td>\n",
       "    </tr>\n",
       "    <tr>\n",
       "      <th>PARK BEND</th>\n",
       "      <td>13385.000000</td>\n",
       "    </tr>\n",
       "    <tr>\n",
       "      <th>PARK CENTER</th>\n",
       "      <td>11300.000000</td>\n",
       "    </tr>\n",
       "    <tr>\n",
       "      <th>ST. EDWARDS</th>\n",
       "      <td>11300.000000</td>\n",
       "    </tr>\n",
       "    <tr>\n",
       "      <th>STEINER LANDFILL</th>\n",
       "      <td>780.000000</td>\n",
       "    </tr>\n",
       "    <tr>\n",
       "      <th>TDS - MRF</th>\n",
       "      <td>9872.439769</td>\n",
       "    </tr>\n",
       "    <tr>\n",
       "      <th>TDS LANDFILL</th>\n",
       "      <td>15167.430761</td>\n",
       "    </tr>\n",
       "    <tr>\n",
       "      <th>WESTFIELD</th>\n",
       "      <td>16020.000000</td>\n",
       "    </tr>\n",
       "    <tr>\n",
       "      <th>WILCAB</th>\n",
       "      <td>11300.000000</td>\n",
       "    </tr>\n",
       "  </tbody>\n",
       "</table>\n",
       "</div>"
      ],
      "text/plain": [
       "                        load_weight\n",
       "dropoff_site                       \n",
       "AUSTIN IRON AND METAL    451.200000\n",
       "AUSTIN WOOD RECYCLING   4050.000000\n",
       "BALCONES RECYCLING      9464.934760\n",
       "BALCONES WOODS          8460.000000\n",
       "GREAT NORTHERN         11982.898551\n",
       "HORNSBY BEND            6645.112053\n",
       "MRF                     1799.982143\n",
       "ON ROUTE HIGH DUMP     11405.925926\n",
       "ONION CREEK            11300.000000\n",
       "ORGANICS BY GOSH       11822.858684\n",
       "PARK BEND              13385.000000\n",
       "PARK CENTER            11300.000000\n",
       "ST. EDWARDS            11300.000000\n",
       "STEINER LANDFILL         780.000000\n",
       "TDS - MRF               9872.439769\n",
       "TDS LANDFILL           15167.430761\n",
       "WESTFIELD              16020.000000\n",
       "WILCAB                 11300.000000"
      ]
     },
     "execution_count": 15,
     "metadata": {},
     "output_type": "execute_result"
    }
   ],
   "source": [
    "#central tendency of each dropoff_site\n",
    "df.groupby('dropoff_site').mean(numeric_only=True)"
   ]
  },
  {
   "cell_type": "code",
   "execution_count": 16,
   "metadata": {},
   "outputs": [
    {
     "data": {
      "text/html": [
       "<div>\n",
       "<style scoped>\n",
       "    .dataframe tbody tr th:only-of-type {\n",
       "        vertical-align: middle;\n",
       "    }\n",
       "\n",
       "    .dataframe tbody tr th {\n",
       "        vertical-align: top;\n",
       "    }\n",
       "\n",
       "    .dataframe thead th {\n",
       "        text-align: right;\n",
       "    }\n",
       "</style>\n",
       "<table border=\"1\" class=\"dataframe\">\n",
       "  <thead>\n",
       "    <tr style=\"text-align: right;\">\n",
       "      <th></th>\n",
       "      <th>load_weight</th>\n",
       "    </tr>\n",
       "    <tr>\n",
       "      <th>dropoff_site</th>\n",
       "      <th></th>\n",
       "    </tr>\n",
       "  </thead>\n",
       "  <tbody>\n",
       "    <tr>\n",
       "      <th>WESTFIELD</th>\n",
       "      <td>16020.0</td>\n",
       "    </tr>\n",
       "  </tbody>\n",
       "</table>\n",
       "</div>"
      ],
      "text/plain": [
       "              load_weight\n",
       "dropoff_site             \n",
       "WESTFIELD         16020.0"
      ]
     },
     "execution_count": 16,
     "metadata": {},
     "output_type": "execute_result"
    }
   ],
   "source": [
    "#the bigest mean of load_weight show with dropoff_site\n",
    "df.groupby('dropoff_site').mean(numeric_only=True).sort_values(by='load_weight', ascending=False).head(1)"
   ]
  },
  {
   "cell_type": "code",
   "execution_count": 17,
   "metadata": {},
   "outputs": [
    {
     "name": "stderr",
     "output_type": "stream",
     "text": [
      "/var/folders/96/h0mb68mj6bv5f5b950lyjxt80000gn/T/ipykernel_74397/98623448.py:1: FutureWarning: The default value of numeric_only in DataFrameGroupBy.median is deprecated. In a future version, numeric_only will default to False. Either specify numeric_only or select only columns which should be valid for the function.\n",
      "  df.groupby('dropoff_site').median()\n"
     ]
    },
    {
     "data": {
      "text/html": [
       "<div>\n",
       "<style scoped>\n",
       "    .dataframe tbody tr th:only-of-type {\n",
       "        vertical-align: middle;\n",
       "    }\n",
       "\n",
       "    .dataframe tbody tr th {\n",
       "        vertical-align: top;\n",
       "    }\n",
       "\n",
       "    .dataframe thead th {\n",
       "        text-align: right;\n",
       "    }\n",
       "</style>\n",
       "<table border=\"1\" class=\"dataframe\">\n",
       "  <thead>\n",
       "    <tr style=\"text-align: right;\">\n",
       "      <th></th>\n",
       "      <th>load_weight</th>\n",
       "    </tr>\n",
       "    <tr>\n",
       "      <th>dropoff_site</th>\n",
       "      <th></th>\n",
       "    </tr>\n",
       "  </thead>\n",
       "  <tbody>\n",
       "    <tr>\n",
       "      <th>AUSTIN IRON AND METAL</th>\n",
       "      <td>400.0</td>\n",
       "    </tr>\n",
       "    <tr>\n",
       "      <th>AUSTIN WOOD RECYCLING</th>\n",
       "      <td>4050.0</td>\n",
       "    </tr>\n",
       "    <tr>\n",
       "      <th>BALCONES RECYCLING</th>\n",
       "      <td>9840.0</td>\n",
       "    </tr>\n",
       "    <tr>\n",
       "      <th>BALCONES WOODS</th>\n",
       "      <td>8460.0</td>\n",
       "    </tr>\n",
       "    <tr>\n",
       "      <th>GREAT NORTHERN</th>\n",
       "      <td>11300.0</td>\n",
       "    </tr>\n",
       "    <tr>\n",
       "      <th>HORNSBY BEND</th>\n",
       "      <td>6420.0</td>\n",
       "    </tr>\n",
       "    <tr>\n",
       "      <th>MRF</th>\n",
       "      <td>1360.0</td>\n",
       "    </tr>\n",
       "    <tr>\n",
       "      <th>ON ROUTE HIGH DUMP</th>\n",
       "      <td>11300.0</td>\n",
       "    </tr>\n",
       "    <tr>\n",
       "      <th>ONION CREEK</th>\n",
       "      <td>11300.0</td>\n",
       "    </tr>\n",
       "    <tr>\n",
       "      <th>ORGANICS BY GOSH</th>\n",
       "      <td>11910.0</td>\n",
       "    </tr>\n",
       "    <tr>\n",
       "      <th>PARK BEND</th>\n",
       "      <td>12330.0</td>\n",
       "    </tr>\n",
       "    <tr>\n",
       "      <th>PARK CENTER</th>\n",
       "      <td>11300.0</td>\n",
       "    </tr>\n",
       "    <tr>\n",
       "      <th>ST. EDWARDS</th>\n",
       "      <td>11300.0</td>\n",
       "    </tr>\n",
       "    <tr>\n",
       "      <th>STEINER LANDFILL</th>\n",
       "      <td>780.0</td>\n",
       "    </tr>\n",
       "    <tr>\n",
       "      <th>TDS - MRF</th>\n",
       "      <td>10340.0</td>\n",
       "    </tr>\n",
       "    <tr>\n",
       "      <th>TDS LANDFILL</th>\n",
       "      <td>14920.0</td>\n",
       "    </tr>\n",
       "    <tr>\n",
       "      <th>WESTFIELD</th>\n",
       "      <td>16020.0</td>\n",
       "    </tr>\n",
       "    <tr>\n",
       "      <th>WILCAB</th>\n",
       "      <td>11300.0</td>\n",
       "    </tr>\n",
       "  </tbody>\n",
       "</table>\n",
       "</div>"
      ],
      "text/plain": [
       "                       load_weight\n",
       "dropoff_site                      \n",
       "AUSTIN IRON AND METAL        400.0\n",
       "AUSTIN WOOD RECYCLING       4050.0\n",
       "BALCONES RECYCLING          9840.0\n",
       "BALCONES WOODS              8460.0\n",
       "GREAT NORTHERN             11300.0\n",
       "HORNSBY BEND                6420.0\n",
       "MRF                         1360.0\n",
       "ON ROUTE HIGH DUMP         11300.0\n",
       "ONION CREEK                11300.0\n",
       "ORGANICS BY GOSH           11910.0\n",
       "PARK BEND                  12330.0\n",
       "PARK CENTER                11300.0\n",
       "ST. EDWARDS                11300.0\n",
       "STEINER LANDFILL             780.0\n",
       "TDS - MRF                  10340.0\n",
       "TDS LANDFILL               14920.0\n",
       "WESTFIELD                  16020.0\n",
       "WILCAB                     11300.0"
      ]
     },
     "execution_count": 17,
     "metadata": {},
     "output_type": "execute_result"
    }
   ],
   "source": [
    "df.groupby('dropoff_site').median()"
   ]
  },
  {
   "cell_type": "code",
   "execution_count": 18,
   "metadata": {},
   "outputs": [
    {
     "data": {
      "text/html": [
       "<div>\n",
       "<style scoped>\n",
       "    .dataframe tbody tr th:only-of-type {\n",
       "        vertical-align: middle;\n",
       "    }\n",
       "\n",
       "    .dataframe tbody tr th {\n",
       "        vertical-align: top;\n",
       "    }\n",
       "\n",
       "    .dataframe thead th {\n",
       "        text-align: right;\n",
       "    }\n",
       "</style>\n",
       "<table border=\"1\" class=\"dataframe\">\n",
       "  <thead>\n",
       "    <tr style=\"text-align: right;\">\n",
       "      <th></th>\n",
       "      <th>load_weight</th>\n",
       "    </tr>\n",
       "    <tr>\n",
       "      <th>dropoff_site</th>\n",
       "      <th></th>\n",
       "    </tr>\n",
       "  </thead>\n",
       "  <tbody>\n",
       "    <tr>\n",
       "      <th>WESTFIELD</th>\n",
       "      <td>16020.0</td>\n",
       "    </tr>\n",
       "  </tbody>\n",
       "</table>\n",
       "</div>"
      ],
      "text/plain": [
       "              load_weight\n",
       "dropoff_site             \n",
       "WESTFIELD         16020.0"
      ]
     },
     "execution_count": 18,
     "metadata": {},
     "output_type": "execute_result"
    }
   ],
   "source": [
    "#the bigest median of load_weight show with dropoff_site\n",
    "df.groupby('dropoff_site').median(numeric_only=True).sort_values(by='load_weight', ascending=False).head(1)"
   ]
  },
  {
   "cell_type": "code",
   "execution_count": 19,
   "metadata": {},
   "outputs": [
    {
     "data": {
      "text/html": [
       "<div>\n",
       "<style scoped>\n",
       "    .dataframe tbody tr th:only-of-type {\n",
       "        vertical-align: middle;\n",
       "    }\n",
       "\n",
       "    .dataframe tbody tr th {\n",
       "        vertical-align: top;\n",
       "    }\n",
       "\n",
       "    .dataframe thead th {\n",
       "        text-align: right;\n",
       "    }\n",
       "</style>\n",
       "<table border=\"1\" class=\"dataframe\">\n",
       "  <thead>\n",
       "    <tr style=\"text-align: right;\">\n",
       "      <th></th>\n",
       "      <th>report_date</th>\n",
       "      <th>load_time</th>\n",
       "      <th>load_type</th>\n",
       "      <th>load_weight</th>\n",
       "    </tr>\n",
       "    <tr>\n",
       "      <th>dropoff_site</th>\n",
       "      <th></th>\n",
       "      <th></th>\n",
       "      <th></th>\n",
       "      <th></th>\n",
       "    </tr>\n",
       "  </thead>\n",
       "  <tbody>\n",
       "    <tr>\n",
       "      <th>AUSTIN IRON AND METAL</th>\n",
       "      <td>2021-01-05</td>\n",
       "      <td>2021-01-05 11:00:00 UTC</td>\n",
       "      <td>RECYCLED METAL</td>\n",
       "      <td>260.0</td>\n",
       "    </tr>\n",
       "    <tr>\n",
       "      <th>AUSTIN WOOD RECYCLING</th>\n",
       "      <td>2021-02-03</td>\n",
       "      <td>2021-02-03 02:05:00 UTC</td>\n",
       "      <td>RECYCLING - SINGLE STREAM</td>\n",
       "      <td>2340.0</td>\n",
       "    </tr>\n",
       "    <tr>\n",
       "      <th>BALCONES RECYCLING</th>\n",
       "      <td>2021-03-04</td>\n",
       "      <td>2021-03-05 12:00:00 UTC</td>\n",
       "      <td>RECYCLING - SINGLE STREAM</td>\n",
       "      <td>11880.0</td>\n",
       "    </tr>\n",
       "    <tr>\n",
       "      <th>BALCONES WOODS</th>\n",
       "      <td>2021-04-09</td>\n",
       "      <td>2021-04-09 12:00:00 UTC</td>\n",
       "      <td>RECYCLING - SINGLE STREAM</td>\n",
       "      <td>8460.0</td>\n",
       "    </tr>\n",
       "    <tr>\n",
       "      <th>GREAT NORTHERN</th>\n",
       "      <td>2021-03-15</td>\n",
       "      <td>2021-02-02 04:42:00 UTC</td>\n",
       "      <td>SWEEPING</td>\n",
       "      <td>11300.0</td>\n",
       "    </tr>\n",
       "    <tr>\n",
       "      <th>HORNSBY BEND</th>\n",
       "      <td>2021-02-25</td>\n",
       "      <td>2021-01-27 12:00:00 UTC</td>\n",
       "      <td>BRUSH</td>\n",
       "      <td>5500.0</td>\n",
       "    </tr>\n",
       "    <tr>\n",
       "      <th>MRF</th>\n",
       "      <td>2021-07-08</td>\n",
       "      <td>2021-01-12 12:00:00 UTC</td>\n",
       "      <td>TIRES</td>\n",
       "      <td>960.0</td>\n",
       "    </tr>\n",
       "    <tr>\n",
       "      <th>ON ROUTE HIGH DUMP</th>\n",
       "      <td>2021-02-10</td>\n",
       "      <td>2021-01-14 10:35:00 UTC</td>\n",
       "      <td>SWEEPING</td>\n",
       "      <td>11300.0</td>\n",
       "    </tr>\n",
       "    <tr>\n",
       "      <th>ONION CREEK</th>\n",
       "      <td>2021-03-09</td>\n",
       "      <td>2021-04-30 12:00:00 UTC</td>\n",
       "      <td>SWEEPING</td>\n",
       "      <td>11300.0</td>\n",
       "    </tr>\n",
       "    <tr>\n",
       "      <th>ORGANICS BY GOSH</th>\n",
       "      <td>2021-04-01</td>\n",
       "      <td>2021-03-09 12:00:00 UTC</td>\n",
       "      <td>ORGANICS</td>\n",
       "      <td>11300.0</td>\n",
       "    </tr>\n",
       "    <tr>\n",
       "      <th>PARK BEND</th>\n",
       "      <td>2021-02-23</td>\n",
       "      <td>2021-02-23 05:04:00 UTC</td>\n",
       "      <td>ORGANICS</td>\n",
       "      <td>20400.0</td>\n",
       "    </tr>\n",
       "    <tr>\n",
       "      <th>PARK CENTER</th>\n",
       "      <td>2021-01-20</td>\n",
       "      <td>2021-01-12 12:15:00 UTC</td>\n",
       "      <td>SWEEPING</td>\n",
       "      <td>11300.0</td>\n",
       "    </tr>\n",
       "    <tr>\n",
       "      <th>ST. EDWARDS</th>\n",
       "      <td>2021-06-24</td>\n",
       "      <td>2021-06-24 11:41:00 UTC</td>\n",
       "      <td>SWEEPING</td>\n",
       "      <td>11300.0</td>\n",
       "    </tr>\n",
       "    <tr>\n",
       "      <th>STEINER LANDFILL</th>\n",
       "      <td>2021-04-14</td>\n",
       "      <td>2021-04-14 11:35:00 UTC</td>\n",
       "      <td>GARBAGE COLLECTIONS</td>\n",
       "      <td>780.0</td>\n",
       "    </tr>\n",
       "    <tr>\n",
       "      <th>TDS - MRF</th>\n",
       "      <td>2021-03-01</td>\n",
       "      <td>2021-03-08 12:00:00 UTC</td>\n",
       "      <td>RECYCLING - SINGLE STREAM</td>\n",
       "      <td>10360.0</td>\n",
       "    </tr>\n",
       "    <tr>\n",
       "      <th>TDS LANDFILL</th>\n",
       "      <td>2021-02-22</td>\n",
       "      <td>2021-06-02 12:00:00 UTC</td>\n",
       "      <td>GARBAGE COLLECTIONS</td>\n",
       "      <td>60.0</td>\n",
       "    </tr>\n",
       "    <tr>\n",
       "      <th>WESTFIELD</th>\n",
       "      <td>2021-05-20</td>\n",
       "      <td>2021-05-20 11:25:00 UTC</td>\n",
       "      <td>GARBAGE COLLECTIONS</td>\n",
       "      <td>16020.0</td>\n",
       "    </tr>\n",
       "    <tr>\n",
       "      <th>WILCAB</th>\n",
       "      <td>2021-01-21</td>\n",
       "      <td>2021-01-21 10:55:00 UTC</td>\n",
       "      <td>SWEEPING</td>\n",
       "      <td>11300.0</td>\n",
       "    </tr>\n",
       "  </tbody>\n",
       "</table>\n",
       "</div>"
      ],
      "text/plain": [
       "                      report_date                load_time  \\\n",
       "dropoff_site                                                 \n",
       "AUSTIN IRON AND METAL  2021-01-05  2021-01-05 11:00:00 UTC   \n",
       "AUSTIN WOOD RECYCLING  2021-02-03  2021-02-03 02:05:00 UTC   \n",
       "BALCONES RECYCLING     2021-03-04  2021-03-05 12:00:00 UTC   \n",
       "BALCONES WOODS         2021-04-09  2021-04-09 12:00:00 UTC   \n",
       "GREAT NORTHERN         2021-03-15  2021-02-02 04:42:00 UTC   \n",
       "HORNSBY BEND           2021-02-25  2021-01-27 12:00:00 UTC   \n",
       "MRF                    2021-07-08  2021-01-12 12:00:00 UTC   \n",
       "ON ROUTE HIGH DUMP     2021-02-10  2021-01-14 10:35:00 UTC   \n",
       "ONION CREEK            2021-03-09  2021-04-30 12:00:00 UTC   \n",
       "ORGANICS BY GOSH       2021-04-01  2021-03-09 12:00:00 UTC   \n",
       "PARK BEND              2021-02-23  2021-02-23 05:04:00 UTC   \n",
       "PARK CENTER            2021-01-20  2021-01-12 12:15:00 UTC   \n",
       "ST. EDWARDS            2021-06-24  2021-06-24 11:41:00 UTC   \n",
       "STEINER LANDFILL       2021-04-14  2021-04-14 11:35:00 UTC   \n",
       "TDS - MRF              2021-03-01  2021-03-08 12:00:00 UTC   \n",
       "TDS LANDFILL           2021-02-22  2021-06-02 12:00:00 UTC   \n",
       "WESTFIELD              2021-05-20  2021-05-20 11:25:00 UTC   \n",
       "WILCAB                 2021-01-21  2021-01-21 10:55:00 UTC   \n",
       "\n",
       "                                       load_type  load_weight  \n",
       "dropoff_site                                                   \n",
       "AUSTIN IRON AND METAL             RECYCLED METAL        260.0  \n",
       "AUSTIN WOOD RECYCLING  RECYCLING - SINGLE STREAM       2340.0  \n",
       "BALCONES RECYCLING     RECYCLING - SINGLE STREAM      11880.0  \n",
       "BALCONES WOODS         RECYCLING - SINGLE STREAM       8460.0  \n",
       "GREAT NORTHERN                          SWEEPING      11300.0  \n",
       "HORNSBY BEND                               BRUSH       5500.0  \n",
       "MRF                                        TIRES        960.0  \n",
       "ON ROUTE HIGH DUMP                      SWEEPING      11300.0  \n",
       "ONION CREEK                             SWEEPING      11300.0  \n",
       "ORGANICS BY GOSH                        ORGANICS      11300.0  \n",
       "PARK BEND                               ORGANICS      20400.0  \n",
       "PARK CENTER                             SWEEPING      11300.0  \n",
       "ST. EDWARDS                             SWEEPING      11300.0  \n",
       "STEINER LANDFILL             GARBAGE COLLECTIONS        780.0  \n",
       "TDS - MRF              RECYCLING - SINGLE STREAM      10360.0  \n",
       "TDS LANDFILL                 GARBAGE COLLECTIONS         60.0  \n",
       "WESTFIELD                    GARBAGE COLLECTIONS      16020.0  \n",
       "WILCAB                                  SWEEPING      11300.0  "
      ]
     },
     "execution_count": 19,
     "metadata": {},
     "output_type": "execute_result"
    }
   ],
   "source": [
    "#mode\n",
    "df.groupby('dropoff_site').agg(lambda x: x.value_counts().index[0])"
   ]
  },
  {
   "cell_type": "code",
   "execution_count": 20,
   "metadata": {},
   "outputs": [
    {
     "data": {
      "text/plain": [
       "SWEEPING                     6\n",
       "RECYCLING - SINGLE STREAM    4\n",
       "GARBAGE COLLECTIONS          3\n",
       "ORGANICS                     2\n",
       "RECYCLED METAL               1\n",
       "BRUSH                        1\n",
       "TIRES                        1\n",
       "Name: load_type, dtype: int64"
      ]
     },
     "execution_count": 20,
     "metadata": {},
     "output_type": "execute_result"
    }
   ],
   "source": [
    "#mode of load type each dropoff_site and count of most occurrences\n",
    "df.groupby('dropoff_site')['load_type'].agg(lambda x: x.value_counts().index[0]).value_counts()"
   ]
  },
  {
   "cell_type": "code",
   "execution_count": 21,
   "metadata": {},
   "outputs": [
    {
     "data": {
      "text/plain": [
       "TDS LANDFILL             10687\n",
       "ORGANICS BY GOSH          5746\n",
       "BALCONES RECYCLING        3832\n",
       "TDS - MRF                 2947\n",
       "HORNSBY BEND              1651\n",
       "ONION CREEK                396\n",
       "MRF                        168\n",
       "ON ROUTE HIGH DUMP          81\n",
       "PARK CENTER                 74\n",
       "GREAT NORTHERN              69\n",
       "AUSTIN IRON AND METAL       50\n",
       "PARK BEND                    4\n",
       "AUSTIN WOOD RECYCLING        2\n",
       "WILCAB                       1\n",
       "BALCONES WOODS               1\n",
       "STEINER LANDFILL             1\n",
       "WESTFIELD                    1\n",
       "ST. EDWARDS                  1\n",
       "Name: dropoff_site, dtype: int64"
      ]
     },
     "execution_count": 21,
     "metadata": {},
     "output_type": "execute_result"
    }
   ],
   "source": [
    "#see which dropoff_site shows the most\n",
    "df['dropoff_site'].value_counts()"
   ]
  },
  {
   "attachments": {},
   "cell_type": "markdown",
   "metadata": {},
   "source": [
    "Berdasarkan data diatas dapat disampaikan :\n",
    "- rata - rata penampung sampah terbanyak berasal dari ```Westfield```. ```Westfield ```mungkin langsung menerima jumlah sampah dalam jumlah banyak. Dikarenakan hanya terdapat satu record pembuangan di tempat tersebut.\n",
    "- median dari Westfield sama dengan rata - ratanya. membuktikan memang hanya terdapat satu record.\n",
    "- Dari setiap site, jenis sampah yang paling banyak diterima adalah ```Sweeping```"
   ]
  },
  {
   "attachments": {},
   "cell_type": "markdown",
   "metadata": {},
   "source": [
    "#### 4. Memilih site"
   ]
  },
  {
   "attachments": {},
   "cell_type": "markdown",
   "metadata": {},
   "source": [
    "``` \n",
    "Site yang dipilih ialah 'TDS LANDFILL'.\n",
    "Dikarenakan site tersebut memiliki kemunculan data pembuangan sampah terbanyak\n",
    "```"
   ]
  },
  {
   "cell_type": "code",
   "execution_count": 22,
   "metadata": {},
   "outputs": [
    {
     "data": {
      "text/html": [
       "<div>\n",
       "<style scoped>\n",
       "    .dataframe tbody tr th:only-of-type {\n",
       "        vertical-align: middle;\n",
       "    }\n",
       "\n",
       "    .dataframe tbody tr th {\n",
       "        vertical-align: top;\n",
       "    }\n",
       "\n",
       "    .dataframe thead th {\n",
       "        text-align: right;\n",
       "    }\n",
       "</style>\n",
       "<table border=\"1\" class=\"dataframe\">\n",
       "  <thead>\n",
       "    <tr style=\"text-align: right;\">\n",
       "      <th></th>\n",
       "      <th>report_date</th>\n",
       "      <th>load_time</th>\n",
       "      <th>load_type</th>\n",
       "      <th>load_weight</th>\n",
       "      <th>dropoff_site</th>\n",
       "    </tr>\n",
       "  </thead>\n",
       "  <tbody>\n",
       "    <tr>\n",
       "      <th>16</th>\n",
       "      <td>2021-01-02</td>\n",
       "      <td>2021-01-02 02:16:00 UTC</td>\n",
       "      <td>BULK</td>\n",
       "      <td>12480.0</td>\n",
       "      <td>TDS LANDFILL</td>\n",
       "    </tr>\n",
       "    <tr>\n",
       "      <th>17</th>\n",
       "      <td>2021-01-02</td>\n",
       "      <td>2021-01-02 12:25:00 UTC</td>\n",
       "      <td>BULK</td>\n",
       "      <td>10200.0</td>\n",
       "      <td>TDS LANDFILL</td>\n",
       "    </tr>\n",
       "    <tr>\n",
       "      <th>18</th>\n",
       "      <td>2021-01-02</td>\n",
       "      <td>2021-01-02 02:13:00 UTC</td>\n",
       "      <td>BULK</td>\n",
       "      <td>5440.0</td>\n",
       "      <td>TDS LANDFILL</td>\n",
       "    </tr>\n",
       "    <tr>\n",
       "      <th>19</th>\n",
       "      <td>2021-01-02</td>\n",
       "      <td>2021-01-02 04:27:00 UTC</td>\n",
       "      <td>DEAD ANIMAL</td>\n",
       "      <td>140.0</td>\n",
       "      <td>TDS LANDFILL</td>\n",
       "    </tr>\n",
       "    <tr>\n",
       "      <th>20</th>\n",
       "      <td>2021-01-02</td>\n",
       "      <td>2021-01-02 02:44:00 UTC</td>\n",
       "      <td>GARBAGE COLLECTIONS</td>\n",
       "      <td>24580.0</td>\n",
       "      <td>TDS LANDFILL</td>\n",
       "    </tr>\n",
       "  </tbody>\n",
       "</table>\n",
       "</div>"
      ],
      "text/plain": [
       "   report_date                load_time            load_type  load_weight  \\\n",
       "16  2021-01-02  2021-01-02 02:16:00 UTC                 BULK      12480.0   \n",
       "17  2021-01-02  2021-01-02 12:25:00 UTC                 BULK      10200.0   \n",
       "18  2021-01-02  2021-01-02 02:13:00 UTC                 BULK       5440.0   \n",
       "19  2021-01-02  2021-01-02 04:27:00 UTC          DEAD ANIMAL        140.0   \n",
       "20  2021-01-02  2021-01-02 02:44:00 UTC  GARBAGE COLLECTIONS      24580.0   \n",
       "\n",
       "    dropoff_site  \n",
       "16  TDS LANDFILL  \n",
       "17  TDS LANDFILL  \n",
       "18  TDS LANDFILL  \n",
       "19  TDS LANDFILL  \n",
       "20  TDS LANDFILL  "
      ]
     },
     "execution_count": 22,
     "metadata": {},
     "output_type": "execute_result"
    }
   ],
   "source": [
    "#Take TDS LANDFILL\n",
    "df_tds = df[df['dropoff_site'] == 'TDS LANDFILL']\n",
    "df_tds.head()"
   ]
  },
  {
   "attachments": {},
   "cell_type": "markdown",
   "metadata": {},
   "source": [
    "#### 5. Mengecek Outlier"
   ]
  },
  {
   "cell_type": "code",
   "execution_count": 23,
   "metadata": {},
   "outputs": [],
   "source": [
    "#Function to plot distribution\n",
    "def plot_dist(df, col):\n",
    "    fig, axes = plt.subplots(ncols = 2, figsize = (15, 5))\n",
    "    \n",
    "    # histogram\n",
    "    sns.histplot(df[col],ax = axes[0], bins=30)\n",
    "    axes[0].set_title(f\"Histogram '{col}'\")\n",
    "    axes[0].axvline(df[col].mean(), color = 'red', linestyle = 'dashed', label = 'mean')\n",
    "    axes[0].axvline(df[col].median(), color = 'green', linestyle = 'dashed', label = 'median')\n",
    "    axes[0].legend()\n",
    "    \n",
    "    # boxplot\n",
    "    sns.boxplot(y=df[col], ax =  axes[1])\n",
    "    axes[1].set_title(f\"Boxplot '{col}'\")\n",
    "    \n",
    "    plt.show()\n",
    "    \n",
    "    # skewness\n",
    "    print(df[col].name + ' Kurtosis: ' + str(df[col].kurt()))\n",
    "    print(df[col].name + ' Skewness: ' + str(df[col].skew()))\n",
    "    if -0.5 <= df[col].skew() <= 0.5:\n",
    "        print(\"Columns '{}' normal distribution\".format(col))\n",
    "    elif df[col].skew() > 0.5:\n",
    "        print(\"Columns '{}' right skewed\".format(col))\n",
    "    elif df[col].skew() < -0.5:\n",
    "        print(\"Columns '{}' left skewed\".format(col))"
   ]
  },
  {
   "cell_type": "code",
   "execution_count": 24,
   "metadata": {},
   "outputs": [
    {
     "data": {
      "text/plain": [
       "['report_date', 'load_time', 'load_type', 'load_weight', 'dropoff_site']"
      ]
     },
     "execution_count": 24,
     "metadata": {},
     "output_type": "execute_result"
    }
   ],
   "source": [
    "df_col = df_tds.columns.tolist()\n",
    "df_col"
   ]
  },
  {
   "cell_type": "code",
   "execution_count": 25,
   "metadata": {},
   "outputs": [
    {
     "data": {
      "image/png": "[encoded data removed]",
      "text/plain": [
       "<Figure size 1500x500 with 2 Axes>"
      ]
     },
     "metadata": {},
     "output_type": "display_data"
    },
    {
     "name": "stdout",
     "output_type": "stream",
     "text": [
      "load_weight Kurtosis: 88.27555631574985\n",
      "load_weight Skewness: 3.6973990393099316\n",
      "Columns 'load_weight' right skewed\n"
     ]
    }
   ],
   "source": [
    "plot_dist(df_tds, df_col[3])"
   ]
  },
  {
   "cell_type": "code",
   "execution_count": 26,
   "metadata": {},
   "outputs": [],
   "source": [
    "#see how many percentage of outliers\n",
    "def outliers(df, col):\n",
    "    Q1 = df[col].quantile(0.25)\n",
    "    Q3 = df[col].quantile(0.75)\n",
    "    IQR = Q3 - Q1\n",
    "    \n",
    "    lower_bound = Q1 - (3 * IQR)\n",
    "    upper_bound = Q3 + (3 * IQR)\n",
    "    \n",
    "    outliers = df[(df[col] < lower_bound) | (df[col] > upper_bound)]\n",
    "    print('Total Outliers: ', outliers.shape[0])\n",
    "    print('Percentage of Outliers: ', round(outliers.shape[0] / df.shape[0] * 100, 2), '%')\n",
    "    return outliers"
   ]
  },
  {
   "cell_type": "code",
   "execution_count": 27,
   "metadata": {},
   "outputs": [
    {
     "name": "stdout",
     "output_type": "stream",
     "text": [
      "Total Outliers:  5\n",
      "Percentage of Outliers:  0.05 %\n"
     ]
    },
    {
     "data": {
      "text/html": [
       "<div>\n",
       "<style scoped>\n",
       "    .dataframe tbody tr th:only-of-type {\n",
       "        vertical-align: middle;\n",
       "    }\n",
       "\n",
       "    .dataframe tbody tr th {\n",
       "        vertical-align: top;\n",
       "    }\n",
       "\n",
       "    .dataframe thead th {\n",
       "        text-align: right;\n",
       "    }\n",
       "</style>\n",
       "<table border=\"1\" class=\"dataframe\">\n",
       "  <thead>\n",
       "    <tr style=\"text-align: right;\">\n",
       "      <th></th>\n",
       "      <th>report_date</th>\n",
       "      <th>load_time</th>\n",
       "      <th>load_type</th>\n",
       "      <th>load_weight</th>\n",
       "      <th>dropoff_site</th>\n",
       "    </tr>\n",
       "  </thead>\n",
       "  <tbody>\n",
       "    <tr>\n",
       "      <th>5176</th>\n",
       "      <td>2021-02-09</td>\n",
       "      <td>2021-02-09 01:08:00 UTC</td>\n",
       "      <td>GARBAGE COLLECTIONS</td>\n",
       "      <td>102680.0</td>\n",
       "      <td>TDS LANDFILL</td>\n",
       "    </tr>\n",
       "    <tr>\n",
       "      <th>8680</th>\n",
       "      <td>2021-03-09</td>\n",
       "      <td>2021-03-09 01:30:00 UTC</td>\n",
       "      <td>GARBAGE COLLECTIONS</td>\n",
       "      <td>145160.0</td>\n",
       "      <td>TDS LANDFILL</td>\n",
       "    </tr>\n",
       "    <tr>\n",
       "      <th>20368</th>\n",
       "      <td>2021-05-26</td>\n",
       "      <td>2021-05-26 11:40:00 UTC</td>\n",
       "      <td>GARBAGE COLLECTIONS</td>\n",
       "      <td>80697.0</td>\n",
       "      <td>TDS LANDFILL</td>\n",
       "    </tr>\n",
       "    <tr>\n",
       "      <th>20553</th>\n",
       "      <td>2021-05-27</td>\n",
       "      <td>2021-05-27 11:33:00 UTC</td>\n",
       "      <td>GARBAGE COLLECTIONS</td>\n",
       "      <td>245540.0</td>\n",
       "      <td>TDS LANDFILL</td>\n",
       "    </tr>\n",
       "    <tr>\n",
       "      <th>23798</th>\n",
       "      <td>2021-06-21</td>\n",
       "      <td>2021-06-21 01:05:00 UTC</td>\n",
       "      <td>GARBAGE COLLECTIONS</td>\n",
       "      <td>227780.0</td>\n",
       "      <td>TDS LANDFILL</td>\n",
       "    </tr>\n",
       "  </tbody>\n",
       "</table>\n",
       "</div>"
      ],
      "text/plain": [
       "      report_date                load_time            load_type  load_weight  \\\n",
       "5176   2021-02-09  2021-02-09 01:08:00 UTC  GARBAGE COLLECTIONS     102680.0   \n",
       "8680   2021-03-09  2021-03-09 01:30:00 UTC  GARBAGE COLLECTIONS     145160.0   \n",
       "20368  2021-05-26  2021-05-26 11:40:00 UTC  GARBAGE COLLECTIONS      80697.0   \n",
       "20553  2021-05-27  2021-05-27 11:33:00 UTC  GARBAGE COLLECTIONS     245540.0   \n",
       "23798  2021-06-21  2021-06-21 01:05:00 UTC  GARBAGE COLLECTIONS     227780.0   \n",
       "\n",
       "       dropoff_site  \n",
       "5176   TDS LANDFILL  \n",
       "8680   TDS LANDFILL  \n",
       "20368  TDS LANDFILL  \n",
       "20553  TDS LANDFILL  \n",
       "23798  TDS LANDFILL  "
      ]
     },
     "execution_count": 27,
     "metadata": {},
     "output_type": "execute_result"
    }
   ],
   "source": [
    "outliers(df_tds, df_col[3])"
   ]
  },
  {
   "attachments": {},
   "cell_type": "markdown",
   "metadata": {},
   "source": [
    "Berdasarkan data di atas dapat disimpulkan:\n",
    "- Distribusi data mengalami postive skewed.\n",
    "- IQR * 3, karena extreme skew.\n",
    "- terdapat 5 outlier.\n",
    "- jumlah outlier sebanyak 0,05%.\n",
    "\n",
    "Sehingga dapat digunakan teknik tukey's rule."
   ]
  },
  {
   "cell_type": "code",
   "execution_count": 28,
   "metadata": {},
   "outputs": [],
   "source": [
    "#remove outliers from df_tds use tukey's rule\n",
    "def remove_outliers(df, col):\n",
    "    Q1 = df[col].quantile(0.25)\n",
    "    Q3 = df[col].quantile(0.75)\n",
    "    IQR = Q3 - Q1\n",
    "    \n",
    "    lower_bound = Q1 - (3 * IQR)\n",
    "    upper_bound = Q3 + (3 * IQR)\n",
    "    \n",
    "    df = df[(df[col] > lower_bound) & (df[col] < upper_bound)]\n",
    "    return df"
   ]
  },
  {
   "cell_type": "code",
   "execution_count": 29,
   "metadata": {},
   "outputs": [],
   "source": [
    "df_tds_no_outliers = remove_outliers(df_tds, df_col[3])"
   ]
  },
  {
   "cell_type": "code",
   "execution_count": 30,
   "metadata": {},
   "outputs": [
    {
     "data": {
      "image/png": "[encoded data removed]",
      "text/plain": [
       "<Figure size 1500x500 with 2 Axes>"
      ]
     },
     "metadata": {},
     "output_type": "display_data"
    },
    {
     "name": "stdout",
     "output_type": "stream",
     "text": [
      "load_weight Kurtosis: -0.8825861158773747\n",
      "load_weight Skewness: 0.037265139527453264\n",
      "Columns 'load_weight' normal distribution\n"
     ]
    }
   ],
   "source": [
    "plot_dist(df_tds_no_outliers, df_col[3])"
   ]
  },
  {
   "cell_type": "code",
   "execution_count": 31,
   "metadata": {},
   "outputs": [
    {
     "data": {
      "text/html": [
       "<div>\n",
       "<style scoped>\n",
       "    .dataframe tbody tr th:only-of-type {\n",
       "        vertical-align: middle;\n",
       "    }\n",
       "\n",
       "    .dataframe tbody tr th {\n",
       "        vertical-align: top;\n",
       "    }\n",
       "\n",
       "    .dataframe thead th {\n",
       "        text-align: right;\n",
       "    }\n",
       "</style>\n",
       "<table border=\"1\" class=\"dataframe\">\n",
       "  <thead>\n",
       "    <tr style=\"text-align: right;\">\n",
       "      <th></th>\n",
       "      <th>report_date</th>\n",
       "      <th>load_time</th>\n",
       "      <th>load_type</th>\n",
       "      <th>load_weight</th>\n",
       "      <th>dropoff_site</th>\n",
       "    </tr>\n",
       "  </thead>\n",
       "  <tbody>\n",
       "    <tr>\n",
       "      <th>16</th>\n",
       "      <td>2021-01-02</td>\n",
       "      <td>2021-01-02 02:16:00 UTC</td>\n",
       "      <td>BULK</td>\n",
       "      <td>12480.0</td>\n",
       "      <td>TDS LANDFILL</td>\n",
       "    </tr>\n",
       "    <tr>\n",
       "      <th>17</th>\n",
       "      <td>2021-01-02</td>\n",
       "      <td>2021-01-02 12:25:00 UTC</td>\n",
       "      <td>BULK</td>\n",
       "      <td>10200.0</td>\n",
       "      <td>TDS LANDFILL</td>\n",
       "    </tr>\n",
       "    <tr>\n",
       "      <th>18</th>\n",
       "      <td>2021-01-02</td>\n",
       "      <td>2021-01-02 02:13:00 UTC</td>\n",
       "      <td>BULK</td>\n",
       "      <td>5440.0</td>\n",
       "      <td>TDS LANDFILL</td>\n",
       "    </tr>\n",
       "    <tr>\n",
       "      <th>19</th>\n",
       "      <td>2021-01-02</td>\n",
       "      <td>2021-01-02 04:27:00 UTC</td>\n",
       "      <td>DEAD ANIMAL</td>\n",
       "      <td>140.0</td>\n",
       "      <td>TDS LANDFILL</td>\n",
       "    </tr>\n",
       "    <tr>\n",
       "      <th>20</th>\n",
       "      <td>2021-01-02</td>\n",
       "      <td>2021-01-02 02:44:00 UTC</td>\n",
       "      <td>GARBAGE COLLECTIONS</td>\n",
       "      <td>24580.0</td>\n",
       "      <td>TDS LANDFILL</td>\n",
       "    </tr>\n",
       "    <tr>\n",
       "      <th>...</th>\n",
       "      <td>...</td>\n",
       "      <td>...</td>\n",
       "      <td>...</td>\n",
       "      <td>...</td>\n",
       "      <td>...</td>\n",
       "    </tr>\n",
       "    <tr>\n",
       "      <th>26097</th>\n",
       "      <td>2021-07-08</td>\n",
       "      <td>2021-07-08 02:04:00 UTC</td>\n",
       "      <td>GARBAGE COLLECTIONS</td>\n",
       "      <td>8380.0</td>\n",
       "      <td>TDS LANDFILL</td>\n",
       "    </tr>\n",
       "    <tr>\n",
       "      <th>26098</th>\n",
       "      <td>2021-07-08</td>\n",
       "      <td>2021-07-08 02:27:00 UTC</td>\n",
       "      <td>BULK</td>\n",
       "      <td>2100.0</td>\n",
       "      <td>TDS LANDFILL</td>\n",
       "    </tr>\n",
       "    <tr>\n",
       "      <th>26099</th>\n",
       "      <td>2021-07-08</td>\n",
       "      <td>2021-07-08 11:07:00 UTC</td>\n",
       "      <td>BULK</td>\n",
       "      <td>3500.0</td>\n",
       "      <td>TDS LANDFILL</td>\n",
       "    </tr>\n",
       "    <tr>\n",
       "      <th>26155</th>\n",
       "      <td>2021-07-09</td>\n",
       "      <td>2021-07-09 12:00:00 UTC</td>\n",
       "      <td>LITTER</td>\n",
       "      <td>1900.0</td>\n",
       "      <td>TDS LANDFILL</td>\n",
       "    </tr>\n",
       "    <tr>\n",
       "      <th>26156</th>\n",
       "      <td>2021-07-09</td>\n",
       "      <td>2021-07-09 12:00:00 UTC</td>\n",
       "      <td>LITTER</td>\n",
       "      <td>3040.0</td>\n",
       "      <td>TDS LANDFILL</td>\n",
       "    </tr>\n",
       "  </tbody>\n",
       "</table>\n",
       "<p>10682 rows × 5 columns</p>\n",
       "</div>"
      ],
      "text/plain": [
       "      report_date                load_time            load_type  load_weight  \\\n",
       "16     2021-01-02  2021-01-02 02:16:00 UTC                 BULK      12480.0   \n",
       "17     2021-01-02  2021-01-02 12:25:00 UTC                 BULK      10200.0   \n",
       "18     2021-01-02  2021-01-02 02:13:00 UTC                 BULK       5440.0   \n",
       "19     2021-01-02  2021-01-02 04:27:00 UTC          DEAD ANIMAL        140.0   \n",
       "20     2021-01-02  2021-01-02 02:44:00 UTC  GARBAGE COLLECTIONS      24580.0   \n",
       "...           ...                      ...                  ...          ...   \n",
       "26097  2021-07-08  2021-07-08 02:04:00 UTC  GARBAGE COLLECTIONS       8380.0   \n",
       "26098  2021-07-08  2021-07-08 02:27:00 UTC                 BULK       2100.0   \n",
       "26099  2021-07-08  2021-07-08 11:07:00 UTC                 BULK       3500.0   \n",
       "26155  2021-07-09  2021-07-09 12:00:00 UTC               LITTER       1900.0   \n",
       "26156  2021-07-09  2021-07-09 12:00:00 UTC               LITTER       3040.0   \n",
       "\n",
       "       dropoff_site  \n",
       "16     TDS LANDFILL  \n",
       "17     TDS LANDFILL  \n",
       "18     TDS LANDFILL  \n",
       "19     TDS LANDFILL  \n",
       "20     TDS LANDFILL  \n",
       "...             ...  \n",
       "26097  TDS LANDFILL  \n",
       "26098  TDS LANDFILL  \n",
       "26099  TDS LANDFILL  \n",
       "26155  TDS LANDFILL  \n",
       "26156  TDS LANDFILL  \n",
       "\n",
       "[10682 rows x 5 columns]"
      ]
     },
     "execution_count": 31,
     "metadata": {},
     "output_type": "execute_result"
    }
   ],
   "source": [
    "df_tds_no_outliers"
   ]
  },
  {
   "attachments": {},
   "cell_type": "markdown",
   "metadata": {},
   "source": [
    "Distribusi data telah menjadi normal"
   ]
  },
  {
   "attachments": {},
   "cell_type": "markdown",
   "metadata": {},
   "source": [
    "Bandingkan central tendency sebelum dan sesudah"
   ]
  },
  {
   "cell_type": "code",
   "execution_count": 32,
   "metadata": {},
   "outputs": [
    {
     "name": "stdout",
     "output_type": "stream",
     "text": [
      "Before remove outliers\n",
      "Mean of load_weight:  15167.430760681202\n",
      "Median of load_weight:  14920.0\n",
      "Mode of load_weight:\n",
      " 0       20.0\n",
      "1       60.0\n",
      "2    12020.0\n",
      "Name: load_weight, dtype: float64\n",
      "\n",
      "After remove outliers\n",
      "Mean of load_weight:  15099.46410217188\n",
      "Median of load_weight:  14920.0\n",
      "Mode of load_weight:\n",
      " 0       20.0\n",
      "1       60.0\n",
      "2    12020.0\n",
      "Name: load_weight, dtype: float64\n"
     ]
    }
   ],
   "source": [
    "#central tendency dropoff_site = TDS LANDFILL from df\n",
    "df_tds_outlier = df[df['dropoff_site'] == 'TDS LANDFILL']\n",
    "print('Before remove outliers')\n",
    "print('Mean of load_weight: ', df_tds_outlier['load_weight'].mean())\n",
    "print('Median of load_weight: ', df_tds_outlier['load_weight'].median())\n",
    "print('Mode of load_weight:\\n', df_tds_outlier['load_weight'].mode())\n",
    "print(\"\")\n",
    "print('After remove outliers')\n",
    "print('Mean of load_weight: ', df_tds_no_outliers['load_weight'].mean())\n",
    "print('Median of load_weight: ', df_tds_no_outliers['load_weight'].median())\n",
    "print('Mode of load_weight:\\n', df_tds_no_outliers['load_weight'].mode())"
   ]
  },
  {
   "attachments": {},
   "cell_type": "markdown",
   "metadata": {},
   "source": [
    "#### 6. Menghitung range, variance, dan standar deviasi untuk data load_weight."
   ]
  },
  {
   "cell_type": "code",
   "execution_count": 33,
   "metadata": {},
   "outputs": [
    {
     "name": "stdout",
     "output_type": "stream",
     "text": [
      "Range of load_weight:  58600.0\n",
      "Variance of load_weight:  61927509.6121629\n",
      "Standard deviation of load_weight:  7869.403383495022\n"
     ]
    }
   ],
   "source": [
    "#Calculate range of load_weight\n",
    "print('Range of load_weight: ', df_tds_no_outliers['load_weight'].max() - df_tds_no_outliers['load_weight'].min())\n",
    "\n",
    "#Calculate variance of load_weight\n",
    "print('Variance of load_weight: ', df_tds_no_outliers['load_weight'].var())\n",
    "\n",
    "#Calculate standard deviation of load_weight\n",
    "print('Standard deviation of load_weight: ', df_tds_no_outliers['load_weight'].std())"
   ]
  },
  {
   "attachments": {},
   "cell_type": "markdown",
   "metadata": {},
   "source": [
    "Dari data di atas dapat disimpulkan bahwa terdapat banyak perbedaan load weight yang signifikan. Kemungkinan jumlah sampah yang dibuang setiap harinya dan setiap jamnya berbeda - beda."
   ]
  },
  {
   "attachments": {},
   "cell_type": "markdown",
   "metadata": {},
   "source": [
    "#### 7. Confidence Interval"
   ]
  },
  {
   "cell_type": "code",
   "execution_count": 34,
   "metadata": {},
   "outputs": [
    {
     "name": "stdout",
     "output_type": "stream",
     "text": [
      "Sample mean: 12206.729369142811\n",
      "Standard deviation: 7049.01432423117\n",
      "Confidence level: 0.95\n",
      "Degrees of freedom: 25711\n",
      "t-value: 1.9600562555918224\n",
      "Standard error of the mean: 43.96028135992695\n",
      "Margin of error: 86.16462447710141\n",
      "Confidence interval: (12120.56474466571, 12292.893993619913)\n"
     ]
    }
   ],
   "source": [
    "#confidence interval of load weight\n",
    "sample_mean = df['load_weight'].mean()\n",
    "sample_std = df['load_weight'].std()\n",
    "\n",
    "#confidence level = 95%\n",
    "conf_level = 0.95\n",
    "\n",
    "dfreedom = df['load_weight'].count() - 1\n",
    "\n",
    "t_value = stats.t.ppf((1 + conf_level) / 2, dfreedom)\n",
    "\n",
    "std_err = sample_std / np.sqrt(df['load_weight'].count())\n",
    "\n",
    "margin_err = t_value * std_err\n",
    "\n",
    "conf_interval = (sample_mean - margin_err, sample_mean + margin_err)\n",
    "\n",
    "print('Sample mean:', sample_mean)\n",
    "print('Standard deviation:', sample_std)\n",
    "print('Confidence level:', conf_level)\n",
    "print('Degrees of freedom:', dfreedom)\n",
    "print('t-value:', t_value)\n",
    "print('Standard error of the mean:', std_err)\n",
    "print('Margin of error:', margin_err)\n",
    "print('Confidence interval:', conf_interval)"
   ]
  },
  {
   "attachments": {},
   "cell_type": "markdown",
   "metadata": {},
   "source": [
    "- Data yang digunakan adalah keseluruhan site. Dikarenakan dapat memberikan perhitungan yang lebih akurat.\n",
    "- Untuk membuat site baru, kapasitas harus lebih besar dari maksimal confidence interval. Untuk mengatasi jumlah sampah yang tiap tahunnya dimungkinkan dapat meningkat."
   ]
  },
  {
   "attachments": {},
   "cell_type": "markdown",
   "metadata": {},
   "source": [
    "#### 8. Uji Hipotesis antara site 'TDS LANDFILL' dan 'ORGANICS BY GOSH'"
   ]
  },
  {
   "attachments": {},
   "cell_type": "markdown",
   "metadata": {},
   "source": [
    "Bersihkan terlebih dahulu dataset ORGANICS BY GOSH."
   ]
  },
  {
   "cell_type": "code",
   "execution_count": 35,
   "metadata": {},
   "outputs": [
    {
     "data": {
      "text/html": [
       "<div>\n",
       "<style scoped>\n",
       "    .dataframe tbody tr th:only-of-type {\n",
       "        vertical-align: middle;\n",
       "    }\n",
       "\n",
       "    .dataframe tbody tr th {\n",
       "        vertical-align: top;\n",
       "    }\n",
       "\n",
       "    .dataframe thead th {\n",
       "        text-align: right;\n",
       "    }\n",
       "</style>\n",
       "<table border=\"1\" class=\"dataframe\">\n",
       "  <thead>\n",
       "    <tr style=\"text-align: right;\">\n",
       "      <th></th>\n",
       "      <th>report_date</th>\n",
       "      <th>load_time</th>\n",
       "      <th>load_type</th>\n",
       "      <th>load_weight</th>\n",
       "      <th>dropoff_site</th>\n",
       "    </tr>\n",
       "  </thead>\n",
       "  <tbody>\n",
       "    <tr>\n",
       "      <th>75</th>\n",
       "      <td>2021-01-02</td>\n",
       "      <td>2021-01-04 07:37:00 UTC</td>\n",
       "      <td>ORGANICS</td>\n",
       "      <td>15800.0</td>\n",
       "      <td>ORGANICS BY GOSH</td>\n",
       "    </tr>\n",
       "    <tr>\n",
       "      <th>76</th>\n",
       "      <td>2021-01-02</td>\n",
       "      <td>2021-01-02 07:40:00 UTC</td>\n",
       "      <td>ORGANICS</td>\n",
       "      <td>20760.0</td>\n",
       "      <td>ORGANICS BY GOSH</td>\n",
       "    </tr>\n",
       "    <tr>\n",
       "      <th>77</th>\n",
       "      <td>2021-01-02</td>\n",
       "      <td>2021-01-02 04:46:00 UTC</td>\n",
       "      <td>ORGANICS</td>\n",
       "      <td>14450.0</td>\n",
       "      <td>ORGANICS BY GOSH</td>\n",
       "    </tr>\n",
       "    <tr>\n",
       "      <th>78</th>\n",
       "      <td>2021-01-02</td>\n",
       "      <td>2021-01-04 08:48:00 UTC</td>\n",
       "      <td>ORGANICS</td>\n",
       "      <td>5980.0</td>\n",
       "      <td>ORGANICS BY GOSH</td>\n",
       "    </tr>\n",
       "    <tr>\n",
       "      <th>79</th>\n",
       "      <td>2021-01-02</td>\n",
       "      <td>2021-01-02 01:30:00 UTC</td>\n",
       "      <td>ORGANICS</td>\n",
       "      <td>19540.0</td>\n",
       "      <td>ORGANICS BY GOSH</td>\n",
       "    </tr>\n",
       "  </tbody>\n",
       "</table>\n",
       "</div>"
      ],
      "text/plain": [
       "   report_date                load_time load_type  load_weight  \\\n",
       "75  2021-01-02  2021-01-04 07:37:00 UTC  ORGANICS      15800.0   \n",
       "76  2021-01-02  2021-01-02 07:40:00 UTC  ORGANICS      20760.0   \n",
       "77  2021-01-02  2021-01-02 04:46:00 UTC  ORGANICS      14450.0   \n",
       "78  2021-01-02  2021-01-04 08:48:00 UTC  ORGANICS       5980.0   \n",
       "79  2021-01-02  2021-01-02 01:30:00 UTC  ORGANICS      19540.0   \n",
       "\n",
       "        dropoff_site  \n",
       "75  ORGANICS BY GOSH  \n",
       "76  ORGANICS BY GOSH  \n",
       "77  ORGANICS BY GOSH  \n",
       "78  ORGANICS BY GOSH  \n",
       "79  ORGANICS BY GOSH  "
      ]
     },
     "execution_count": 35,
     "metadata": {},
     "output_type": "execute_result"
    }
   ],
   "source": [
    "df_obg = df[df['dropoff_site'] == 'ORGANICS BY GOSH']\n",
    "df_obg.head()"
   ]
  },
  {
   "cell_type": "code",
   "execution_count": 36,
   "metadata": {},
   "outputs": [
    {
     "data": {
      "text/plain": [
       "['report_date', 'load_time', 'load_type', 'load_weight', 'dropoff_site']"
      ]
     },
     "execution_count": 36,
     "metadata": {},
     "output_type": "execute_result"
    }
   ],
   "source": [
    "df_col = df_obg.columns.tolist()\n",
    "df_col"
   ]
  },
  {
   "cell_type": "code",
   "execution_count": 37,
   "metadata": {},
   "outputs": [
    {
     "data": {
      "image/png": "[encoded data removed]",
      "text/plain": [
       "<Figure size 1500x500 with 2 Axes>"
      ]
     },
     "metadata": {},
     "output_type": "display_data"
    },
    {
     "name": "stdout",
     "output_type": "stream",
     "text": [
      "load_weight Kurtosis: -0.49456736895004516\n",
      "load_weight Skewness: 0.05783661317421264\n",
      "Columns 'load_weight' normal distribution\n"
     ]
    }
   ],
   "source": [
    "plot_dist(df_obg, df_col[3])"
   ]
  },
  {
   "attachments": {},
   "cell_type": "markdown",
   "metadata": {},
   "source": [
    "Data terdistribusi normal sehingga akan digunakan teknik Z-score"
   ]
  },
  {
   "cell_type": "code",
   "execution_count": 38,
   "metadata": {},
   "outputs": [
    {
     "name": "stderr",
     "output_type": "stream",
     "text": [
      "/var/folders/96/h0mb68mj6bv5f5b950lyjxt80000gn/T/ipykernel_74397/1083111932.py:1: SettingWithCopyWarning: \n",
      "A value is trying to be set on a copy of a slice from a DataFrame.\n",
      "Try using .loc[row_indexer,col_indexer] = value instead\n",
      "\n",
      "See the caveats in the documentation: https://pandas.pydata.org/pandas-docs/stable/user_guide/indexing.html#returning-a-view-versus-a-copy\n",
      "  df_obg['Z-Score normal'] = stats.zscore(df_obg['load_weight'])\n"
     ]
    }
   ],
   "source": [
    "df_obg['Z-Score normal'] = stats.zscore(df_obg['load_weight'])"
   ]
  },
  {
   "cell_type": "code",
   "execution_count": 39,
   "metadata": {},
   "outputs": [
    {
     "data": {
      "text/html": [
       "<div>\n",
       "<style scoped>\n",
       "    .dataframe tbody tr th:only-of-type {\n",
       "        vertical-align: middle;\n",
       "    }\n",
       "\n",
       "    .dataframe tbody tr th {\n",
       "        vertical-align: top;\n",
       "    }\n",
       "\n",
       "    .dataframe thead th {\n",
       "        text-align: right;\n",
       "    }\n",
       "</style>\n",
       "<table border=\"1\" class=\"dataframe\">\n",
       "  <thead>\n",
       "    <tr style=\"text-align: right;\">\n",
       "      <th></th>\n",
       "      <th>report_date</th>\n",
       "      <th>load_time</th>\n",
       "      <th>load_type</th>\n",
       "      <th>load_weight</th>\n",
       "      <th>dropoff_site</th>\n",
       "      <th>Z-Score normal</th>\n",
       "    </tr>\n",
       "  </thead>\n",
       "  <tbody>\n",
       "    <tr>\n",
       "      <th>75</th>\n",
       "      <td>2021-01-02</td>\n",
       "      <td>2021-01-04 07:37:00 UTC</td>\n",
       "      <td>ORGANICS</td>\n",
       "      <td>15800.0</td>\n",
       "      <td>ORGANICS BY GOSH</td>\n",
       "      <td>0.785296</td>\n",
       "    </tr>\n",
       "    <tr>\n",
       "      <th>76</th>\n",
       "      <td>2021-01-02</td>\n",
       "      <td>2021-01-02 07:40:00 UTC</td>\n",
       "      <td>ORGANICS</td>\n",
       "      <td>20760.0</td>\n",
       "      <td>ORGANICS BY GOSH</td>\n",
       "      <td>1.764660</td>\n",
       "    </tr>\n",
       "    <tr>\n",
       "      <th>77</th>\n",
       "      <td>2021-01-02</td>\n",
       "      <td>2021-01-02 04:46:00 UTC</td>\n",
       "      <td>ORGANICS</td>\n",
       "      <td>14450.0</td>\n",
       "      <td>ORGANICS BY GOSH</td>\n",
       "      <td>0.518735</td>\n",
       "    </tr>\n",
       "    <tr>\n",
       "      <th>78</th>\n",
       "      <td>2021-01-02</td>\n",
       "      <td>2021-01-04 08:48:00 UTC</td>\n",
       "      <td>ORGANICS</td>\n",
       "      <td>5980.0</td>\n",
       "      <td>ORGANICS BY GOSH</td>\n",
       "      <td>-1.153686</td>\n",
       "    </tr>\n",
       "    <tr>\n",
       "      <th>79</th>\n",
       "      <td>2021-01-02</td>\n",
       "      <td>2021-01-02 01:30:00 UTC</td>\n",
       "      <td>ORGANICS</td>\n",
       "      <td>19540.0</td>\n",
       "      <td>ORGANICS BY GOSH</td>\n",
       "      <td>1.523768</td>\n",
       "    </tr>\n",
       "  </tbody>\n",
       "</table>\n",
       "</div>"
      ],
      "text/plain": [
       "   report_date                load_time load_type  load_weight  \\\n",
       "75  2021-01-02  2021-01-04 07:37:00 UTC  ORGANICS      15800.0   \n",
       "76  2021-01-02  2021-01-02 07:40:00 UTC  ORGANICS      20760.0   \n",
       "77  2021-01-02  2021-01-02 04:46:00 UTC  ORGANICS      14450.0   \n",
       "78  2021-01-02  2021-01-04 08:48:00 UTC  ORGANICS       5980.0   \n",
       "79  2021-01-02  2021-01-02 01:30:00 UTC  ORGANICS      19540.0   \n",
       "\n",
       "        dropoff_site  Z-Score normal  \n",
       "75  ORGANICS BY GOSH        0.785296  \n",
       "76  ORGANICS BY GOSH        1.764660  \n",
       "77  ORGANICS BY GOSH        0.518735  \n",
       "78  ORGANICS BY GOSH       -1.153686  \n",
       "79  ORGANICS BY GOSH        1.523768  "
      ]
     },
     "execution_count": 39,
     "metadata": {},
     "output_type": "execute_result"
    }
   ],
   "source": [
    "df_obg_no_outliers = df_obg[(df_obg['Z-Score normal'] < 3) & (df_obg['Z-Score normal'] > -3)]\n",
    "df_obg_no_outliers.head()"
   ]
  },
  {
   "cell_type": "code",
   "execution_count": 40,
   "metadata": {},
   "outputs": [
    {
     "data": {
      "image/png": "[encoded data removed]",
      "text/plain": [
       "<Figure size 1500x500 with 2 Axes>"
      ]
     },
     "metadata": {},
     "output_type": "display_data"
    },
    {
     "name": "stdout",
     "output_type": "stream",
     "text": [
      "load_weight Kurtosis: -0.5812382959026685\n",
      "load_weight Skewness: 0.02450630670256225\n",
      "Columns 'load_weight' normal distribution\n"
     ]
    }
   ],
   "source": [
    "plot_dist(df_obg_no_outliers, df_col[3])"
   ]
  },
  {
   "attachments": {},
   "cell_type": "markdown",
   "metadata": {},
   "source": [
    "Mulai uji hipotesis <br>\n",
    "Perbandingan rata-rata load_weight harian dari TDS Landfill sama dengan Organics by Gosh\n",
    "- H0: μ_tds = μ_obg (Tidak ada perbedaan signifikan rata - rata load_weight harian antara TDS Landfill dan Organics by Gosh)\n",
    "- H0: μ_tds != μ_obg (Terdapat perbedaan signifikan rata - rata load_weight harian antara TDS Landfill dan Organics by Gosh)"
   ]
  },
  {
   "cell_type": "code",
   "execution_count": 41,
   "metadata": {},
   "outputs": [],
   "source": [
    "daily_TDS = df_tds_no_outliers[df_tds_no_outliers['dropoff_site'] == 'TDS LANDFILL'][['report_date', 'load_weight']].groupby('report_date').sum()\n",
    "daily_OBS = df_obg_no_outliers[df_obg_no_outliers['dropoff_site'] == 'ORGANICS BY GOSH'][['report_date', 'load_weight']].groupby('report_date').sum()"
   ]
  },
  {
   "cell_type": "code",
   "execution_count": 42,
   "metadata": {},
   "outputs": [
    {
     "data": {
      "text/plain": [
       "load_weight    161\n",
       "dtype: int64"
      ]
     },
     "execution_count": 42,
     "metadata": {},
     "output_type": "execute_result"
    }
   ],
   "source": [
    "daily_TDS.count()"
   ]
  },
  {
   "cell_type": "code",
   "execution_count": 43,
   "metadata": {},
   "outputs": [
    {
     "data": {
      "text/plain": [
       "10682"
      ]
     },
     "execution_count": 43,
     "metadata": {},
     "output_type": "execute_result"
    }
   ],
   "source": [
    "df_tds_no_outliers['load_weight'].count()"
   ]
  },
  {
   "cell_type": "code",
   "execution_count": 44,
   "metadata": {},
   "outputs": [
    {
     "name": "stdout",
     "output_type": "stream",
     "text": [
      "p-value: 1.8885031695299925e-26\n",
      "Reject null hypothesis\n"
     ]
    }
   ],
   "source": [
    "#Menggunakan Two Sample Two Tail Independent T-Test\n",
    "\n",
    "#nilai confidence = 95%\n",
    "#p-value = 1 - confidence\n",
    "ttest, pval = stats.ttest_ind(daily_TDS, daily_OBS)\n",
    "print('p-value:', pval[0])\n",
    "if pval < 0.05:\n",
    "    print('Reject null hypothesis')\n",
    "else:\n",
    "    print('Accept null hypothesis')"
   ]
  },
  {
   "cell_type": "code",
   "execution_count": 45,
   "metadata": {},
   "outputs": [
    {
     "name": "stderr",
     "output_type": "stream",
     "text": [
      "/var/folders/96/h0mb68mj6bv5f5b950lyjxt80000gn/T/ipykernel_74397/3112664371.py:6: UserWarning: \n",
      "\n",
      "`distplot` is a deprecated function and will be removed in seaborn v0.14.0.\n",
      "\n",
      "Please adapt your code to use either `displot` (a figure-level function with\n",
      "similar flexibility) or `histplot` (an axes-level function for histograms).\n",
      "\n",
      "For a guide to updating your code to use the new functions, please see\n",
      "https://gist.github.com/mwaskom/de44147ed2974457ad6372750bbe5751\n",
      "\n",
      "  sns.distplot(tds, bins=100, color='blue', label='TDS Landfill')\n",
      "/var/folders/96/h0mb68mj6bv5f5b950lyjxt80000gn/T/ipykernel_74397/3112664371.py:7: UserWarning: \n",
      "\n",
      "`distplot` is a deprecated function and will be removed in seaborn v0.14.0.\n",
      "\n",
      "Please adapt your code to use either `displot` (a figure-level function with\n",
      "similar flexibility) or `histplot` (an axes-level function for histograms).\n",
      "\n",
      "For a guide to updating your code to use the new functions, please see\n",
      "https://gist.github.com/mwaskom/de44147ed2974457ad6372750bbe5751\n",
      "\n",
      "  sns.distplot(obs, bins=100, color='red', label='Organics by Gosh')\n"
     ]
    },
    {
     "data": {
      "text/plain": [
       "<matplotlib.legend.Legend at 0x17f093820>"
      ]
     },
     "execution_count": 45,
     "metadata": {},
     "output_type": "execute_result"
    },
    {
     "data": {
      "image/png": "[encoded data removed]",
      "text/plain": [
       "<Figure size 1600x500 with 1 Axes>"
      ]
     },
     "metadata": {},
     "output_type": "display_data"
    }
   ],
   "source": [
    "tds = np.random.normal(daily_TDS.load_weight.mean(), daily_TDS.load_weight.std(), 10000)\n",
    "obs = np.random.normal(daily_OBS.load_weight.mean(), daily_OBS.load_weight.std(), 10000)\n",
    "\n",
    "ci = stats.norm.interval(0.95, loc=daily_TDS.load_weight.mean(), scale=daily_TDS.load_weight.std())\n",
    "plt.figure(figsize=(16,5))\n",
    "sns.distplot(tds, bins=100, color='blue', label='TDS Landfill')\n",
    "sns.distplot(obs, bins=100, color='red', label='Organics by Gosh')\n",
    "\n",
    "plt.axvline(daily_TDS.load_weight.mean(), color='blue', linestyle='solid', linewidth=2, label='TDS Landfill Mean')\n",
    "plt.axvline(daily_OBS.load_weight.mean(), color='red', linestyle='solid', linewidth=2, label='Organics by Gosh Mean')\n",
    "\n",
    "plt.axvline(ci[1], color='green', linestyle='dashed', linewidth=2, label='confidence threshold of 95%')\n",
    "plt.axvline(ci[0], color='green', linestyle='dashed', linewidth=2)\n",
    "\n",
    "plt.axvline(tds.mean()+ttest*tds.std(), color='black', linestyle='dashed', linewidth=2, label = 'Alternative Hypothesis')\n",
    "plt.axvline(tds.mean()-ttest*tds.std(), color='black', linestyle='dashed', linewidth=2)\n",
    "\n",
    "plt.legend()"
   ]
  },
  {
   "attachments": {},
   "cell_type": "markdown",
   "metadata": {},
   "source": [
    "- Berdasarkan uji yang dilakukan diatas, dapat disimpulkan bahwa terdapat bukti perbedaan signifikan terhadap rata - rata site di TDS Landfill dan Organics by Gosh."
   ]
  },
  {
   "attachments": {},
   "cell_type": "markdown",
   "metadata": {},
   "source": [
    "#### Pertanyaan Konsep"
   ]
  },
  {
   "attachments": {},
   "cell_type": "markdown",
   "metadata": {},
   "source": [
    "Question :\n",
    "1. Teknik apa yang kamu pilih untuk handling outlier? jelaskan alasannya!\n",
    "2. Apa konsep dibalik confidence interval sehingga kita dapat menggunakannya untuk menyelesaikan langkah pada nomor 7?\n",
    "3. Jelaskan jenis uji hipotesis apa yang kamu terapkan dan mengapa?\n",
    "\n",
    "Answer:\n",
    "1. Untuk Site TDS Landfill menggunakan teknik tukey's rule dikarenakan data yang skew ke kanan. Sedangkan untuk Organic By Gosh menggunakan teknik Z-Score dikarenakan persebaran data yang normal.\n",
    "2. Confidence interval digunakan untuk memperkirakan rentang nilai sebenarnya suatu populasi dari data sampel. Sehingga dapat digunakan untuk mengestimasikan kapasitas pembuatan site tempat sampah baru.\n",
    "3. Uji hipotesis yang digunakan adalah Two Sample Independent Two Tail. Dikarenakan akan dibandingkan rata - rata harian dari dua site tempat sampah yang tidak saling berhubungan datanya."
   ]
  },
  {
   "attachments": {},
   "cell_type": "markdown",
   "metadata": {},
   "source": [
    "### Problem 2"
   ]
  },
  {
   "attachments": {},
   "cell_type": "markdown",
   "metadata": {},
   "source": [
    "#### Load Data"
   ]
  },
  {
   "cell_type": "code",
   "execution_count": 46,
   "metadata": {},
   "outputs": [
    {
     "data": {
      "text/html": [
       "<div>\n",
       "<style scoped>\n",
       "    .dataframe tbody tr th:only-of-type {\n",
       "        vertical-align: middle;\n",
       "    }\n",
       "\n",
       "    .dataframe tbody tr th {\n",
       "        vertical-align: top;\n",
       "    }\n",
       "\n",
       "    .dataframe thead th {\n",
       "        text-align: right;\n",
       "    }\n",
       "</style>\n",
       "<table border=\"1\" class=\"dataframe\">\n",
       "  <thead>\n",
       "    <tr style=\"text-align: right;\">\n",
       "      <th></th>\n",
       "      <th>load_weight</th>\n",
       "    </tr>\n",
       "    <tr>\n",
       "      <th>report_date</th>\n",
       "      <th></th>\n",
       "    </tr>\n",
       "  </thead>\n",
       "  <tbody>\n",
       "    <tr>\n",
       "      <th>2021-01-01</th>\n",
       "      <td>11300.0</td>\n",
       "    </tr>\n",
       "    <tr>\n",
       "      <th>2021-01-02</th>\n",
       "      <td>2181430.0</td>\n",
       "    </tr>\n",
       "    <tr>\n",
       "      <th>2021-01-04</th>\n",
       "      <td>2920260.0</td>\n",
       "    </tr>\n",
       "    <tr>\n",
       "      <th>2021-01-05</th>\n",
       "      <td>2399840.0</td>\n",
       "    </tr>\n",
       "    <tr>\n",
       "      <th>2021-01-06</th>\n",
       "      <td>2419150.0</td>\n",
       "    </tr>\n",
       "    <tr>\n",
       "      <th>...</th>\n",
       "      <td>...</td>\n",
       "    </tr>\n",
       "    <tr>\n",
       "      <th>2021-07-05</th>\n",
       "      <td>1897290.0</td>\n",
       "    </tr>\n",
       "    <tr>\n",
       "      <th>2021-07-06</th>\n",
       "      <td>1978140.0</td>\n",
       "    </tr>\n",
       "    <tr>\n",
       "      <th>2021-07-07</th>\n",
       "      <td>1620880.0</td>\n",
       "    </tr>\n",
       "    <tr>\n",
       "      <th>2021-07-08</th>\n",
       "      <td>1508050.0</td>\n",
       "    </tr>\n",
       "    <tr>\n",
       "      <th>2021-07-09</th>\n",
       "      <td>126140.0</td>\n",
       "    </tr>\n",
       "  </tbody>\n",
       "</table>\n",
       "<p>166 rows × 1 columns</p>\n",
       "</div>"
      ],
      "text/plain": [
       "             load_weight\n",
       "report_date             \n",
       "2021-01-01       11300.0\n",
       "2021-01-02     2181430.0\n",
       "2021-01-04     2920260.0\n",
       "2021-01-05     2399840.0\n",
       "2021-01-06     2419150.0\n",
       "...                  ...\n",
       "2021-07-05     1897290.0\n",
       "2021-07-06     1978140.0\n",
       "2021-07-07     1620880.0\n",
       "2021-07-08     1508050.0\n",
       "2021-07-09      126140.0\n",
       "\n",
       "[166 rows x 1 columns]"
      ]
     },
     "execution_count": 46,
     "metadata": {},
     "output_type": "execute_result"
    }
   ],
   "source": [
    "#Query report_date and load_weight\n",
    "df_2 = df[['report_date', 'load_weight']]\n",
    "#Convert load_time to datetime\n",
    "data_final = df_2.groupby('report_date').sum()\n",
    "data_final"
   ]
  },
  {
   "attachments": {},
   "cell_type": "markdown",
   "metadata": {},
   "source": [
    "#### Perhitungan"
   ]
  },
  {
   "cell_type": "code",
   "execution_count": 47,
   "metadata": {},
   "outputs": [],
   "source": [
    "#separate data into x and y\n",
    "#x = jarak anatara data\n",
    "x = range(len(data_final))\n",
    "y = data_final.load_weight"
   ]
  },
  {
   "cell_type": "code",
   "execution_count": 48,
   "metadata": {},
   "outputs": [
    {
     "name": "stdout",
     "output_type": "stream",
     "text": [
      "-1381910.0\n"
     ]
    }
   ],
   "source": [
    "#Menghitung turunan dari data menggunakan gradient\n",
    "gradients = np.gradient(y, x)\n",
    "v = gradients[-1]\n",
    "print(v)"
   ]
  },
  {
   "cell_type": "code",
   "execution_count": 49,
   "metadata": {},
   "outputs": [
    {
     "data": {
      "text/plain": [
       "126140.0"
      ]
     },
     "execution_count": 49,
     "metadata": {},
     "output_type": "execute_result"
    }
   ],
   "source": [
    "#w pada tanggal 2021-07-09\n",
    "w_today = data_final.load_weight[-1]\n",
    "w_today"
   ]
  },
  {
   "cell_type": "code",
   "execution_count": 50,
   "metadata": {},
   "outputs": [
    {
     "data": {
      "text/plain": [
       "1255770.0"
      ]
     },
     "execution_count": 50,
     "metadata": {},
     "output_type": "execute_result"
    }
   ],
   "source": [
    "#memperkirakan w pada tanggal 2021-07-10\n",
    "w_tomorrow = w_today + v * 1\n",
    "np.abs(w_tomorrow)"
   ]
  },
  {
   "attachments": {},
   "cell_type": "markdown",
   "metadata": {},
   "source": [
    "Question :\n",
    "1. Untuk menghitung turunan pertama dapat digunakan metode simbolik dan numerik, untuk kasus ini, teknik apa yang kamu gunakan?\n",
    "2.  kamu membutuhkan fungsi matematis untuk menghitung turunannya? (ya/tidak) berikan alasanmu!\n",
    "3. Berapa load weight yang kamu perkirakan di hari esok (10 Juli 2021)?\n",
    "\n",
    "Answer :\n",
    "1. Metode yang digunakan adalah metode numerik.\n",
    "2. tidak, karena sudah digunakan batuan dari library numpy untuk menghitung turunan numerik yaitu dengan method np.gradient().\n",
    "3. Berdasarkan perhitungan diperkiraan sebanyak 1.255.770 Kg."
   ]
  },
  {
   "attachments": {},
   "cell_type": "markdown",
   "metadata": {},
   "source": [
    "## Kesimpulan"
   ]
  },
  {
   "attachments": {},
   "cell_type": "markdown",
   "metadata": {},
   "source": [
    "- Pemerintah sebaiknya membuat site baru yang lebih besar dari nilai confidence interval.\n",
    "- Pemerintah juga bisa menyalurkan sampah ke site sampah yang jarang digunakan untuk menampung sampah. Karena dari records setiap site, ada beberapa site yang hanya baru dipakai sekali.\n",
    "- Perbandingan rata - rata harian site TDS Landfill dengan Organics By Gosh signifikan.\n",
    "- Berdasarkan perhitungan diperkiraan sebanyak 1.255.770 Kg sampah akan dibuang pada tanggal 10 juli 2021."
   ]
  }
 ],
 "metadata": {
  "kernelspec": {
   "display_name": "base",
   "language": "python",
   "name": "python3"
  },
  "language_info": {
   "codemirror_mode": {
    "name": "ipython",
    "version": 3
   },
   "file_extension": ".py",
   "mimetype": "text/x-python",
   "name": "python",
   "nbconvert_exporter": "python",
   "pygments_lexer": "ipython3",
   "version": "3.10.6"
  },
  "orig_nbformat": 4
 },
 "nbformat": 4,
 "nbformat_minor": 2
}
